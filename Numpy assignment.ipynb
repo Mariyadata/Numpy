{
 "cells": [
  {
   "cell_type": "code",
   "execution_count": null,
   "id": "b6da0c2b-7526-4ae1-80b4-7dd7172c6aea",
   "metadata": {},
   "outputs": [],
   "source": [
    "A Python library is a collection of pre-written code that developers can use to solve common programming tasks. Libraries contain modules and functions that perform specific operations, allowing developers to avoid writing code from scratch for these tasks. Python libraries can include functionalities for various purposes such as data manipulation, scientific computing, web development, machine learning, and more.\n",
    "\n",
    "1.Efficiency:\n",
    "\n",
    "Libraries provide pre-built functions and classes that save time. Instead of writing code from scratch, you can use existing libraries to speed up the development process.\n",
    "\n",
    "2.Reliability:\n",
    "\n",
    "Many libraries are maintained by communities or organizations, ensuring that the code is well-tested and reliable. This reduces the risk of bugs in your own code.\n",
    "\n",
    "3.Community Support:\n",
    "\n",
    "Popular libraries often have extensive documentation, tutorials, and active communities. This makes it easier to find help and resources when needed.\n",
    "\n",
    "4.Functionality:\n",
    "\n",
    "Libraries offer a wide range of functionalities that cover almost every aspect of programming, from basic operations to complex algorithms and data structures.\n",
    "\n",
    "5.Standardization:\n",
    "\n",
    "Using well-known libraries ensures that your code adheres to best practices and standards within the Python community."
   ]
  },
  {
   "cell_type": "code",
   "execution_count": null,
   "id": "d3db84aa-ba0b-4648-a73a-ec3db439f06e",
   "metadata": {},
   "outputs": [],
   "source": [
    "1. Performance\n",
    "NumPy Array: NumPy arrays are designed for high-performance mathematical operations. They are implemented in C, leading to faster execution of numerical computations compared to lists.\n",
    "List: Python lists are slower for numerical operations because they are implemented at a higher level of abstraction and lack the optimizations of NumPy.\n",
    "2. Memory Efficiency\n",
    "NumPy Array: NumPy arrays are more memory-efficient. They store elements of the same type in a contiguous block of memory, which reduces overhead.\n",
    "List: Python lists are less memory-efficient. They can store elements of different types, resulting in additional memory overhead.\n",
    "3. Functionality\n",
    "NumPy Array: NumPy provides a comprehensive suite of mathematical functions and operations tailored for array computations, such as element-wise operations, broadcasting, linear algebra functions, and more.\n",
    "List: Python lists are general-purpose containers without built-in support for complex mathematical operations. Such operations require explicit loops or list comprehensions.\n",
    "4. Type Consistency\n",
    "NumPy Array: All elements in a NumPy array must be of the same type, ensuring type consistency and optimizing performance.\n",
    "List: Python lists can contain elements of different types, offering more flexibility but reducing efficiency for numerical computations.\n",
    "5. Indexing and Slicing\n",
    "NumPy Array: Supports advanced indexing and slicing, allowing for more powerful data manipulation. This includes multi-dimensional slicing, boolean indexing, and more.\n",
    "List: Python lists support basic indexing and slicing. They do not offer the same level of flexibility and power as NumPy arrays.\n",
    "6. Broadcasting\n",
    "NumPy Array: NumPy arrays support broadcasting, which allows operations on arrays of different shapes without needing explicit loops. This feature simplifies code and enhances performance.\n",
    "List: Python lists do not support broadcasting. Operations on lists of different lengths require manual loops or list comprehensions.\n",
    "7. Multi-dimensional Data\n",
    "NumPy Array: Designed for handling multi-dimensional data efficiently. Operations on multi-dimensional arrays are straightforward and optimized.\n",
    "List: Handling multi-dimensional data with lists is less efficient and requires nested lists, making operations more cumbersome and less performant."
   ]
  },
  {
   "cell_type": "code",
   "execution_count": null,
   "id": "e3b6ed52-01cc-4dc9-a18b-524298dbb448",
   "metadata": {},
   "outputs": [],
   "source": [
    "import numpy as np\n",
    "\n",
    "array = np.array([[1, 2, 3, 4],\n",
    "                  [5, 6, 7, 8],\n",
    "                  [9, 10, 11, 12]])\n",
    "\n",
    "\n",
    "shape = array.shape\n",
    "size = array.size\n",
    "dimension = array.ndim\n",
    "\n",
    "shape, size, dimension\n",
    "\n",
    "import numpy as np\n",
    "\n",
    "\n",
    "array = np.array([[1, 2, 3, 4],\n",
    "                  [5, 6, 7, 8],\n",
    "                  [9, 10, 11, 12]])\n",
    "\n",
    "\n",
    "shape = array.shape\n",
    "size = array.size\n",
    "dimension = array.ndim\n",
    "\n",
    "print(\"Shape:\", shape)\n",
    "print(\"Size:\", size)\n",
    "print(\"Dimension:\", dimension)\n",
    "\n",
    "A shape of (3, 4), indicating 3 rows and 4 columns.\n",
    "A size of 12, indicating there are 12 elements in total.\n",
    "A dimension of 2, indicating it is a 2-dimensional array.\n"
   ]
  },
  {
   "cell_type": "code",
   "execution_count": null,
   "id": "c33f826c-9d28-4765-a27c-7dc0cd80c1af",
   "metadata": {},
   "outputs": [],
   "source": [
    "import numpy as np\n",
    "\n",
    "array = np.array([[1, 2, 3, 4],\n",
    "                  [5, 6, 7, 8],\n",
    "                  [9, 10, 11, 12]])\n",
    "\n",
    "first_row = array[0]\n",
    "\n",
    "print(\"First row:\", first_row)\n"
   ]
  },
  {
   "cell_type": "code",
   "execution_count": null,
   "id": "cd49f662-8521-4001-b50e-5865ce9d1e41",
   "metadata": {},
   "outputs": [],
   "source": [
    "import numpy as np\n",
    "\n",
    "\n",
    "array = np.array([[1, 2, 3, 4],\n",
    "                  [5, 6, 7, 8],\n",
    "                  [9, 10, 11, 12]])\n",
    "\n",
    "\n",
    "element = array[2, 3]\n",
    "\n",
    "print(\"Element at third row and fourth column:\", element)\n"
   ]
  },
  {
   "cell_type": "code",
   "execution_count": null,
   "id": "48202b5f-eb87-41c2-b10a-7aaa040c2c81",
   "metadata": {},
   "outputs": [],
   "source": [
    "import numpy as np\n",
    "\n",
    "\n",
    "array = np.array([[1, 2, 3, 4],\n",
    "                  [5, 6, 7, 8],\n",
    "                  [9, 10, 11, 12]])\n",
    "\n",
    "\n",
    "odd_indexed_elements = array[(np.arange(array.shape[0])[:, None] % 2 == 1) | (np.arange(array.shape[1]) % 2 == 1)]\n",
    "\n",
    "print(\"Odd-indexed elements:\", odd_indexed_elements)\n"
   ]
  },
  {
   "cell_type": "code",
   "execution_count": null,
   "id": "b3f22e2c-4c62-42dc-94ef-9087844f5e7c",
   "metadata": {},
   "outputs": [],
   "source": [
    "import numpy as np\n",
    "\n",
    "random_matrix = np.random.rand(3, 3)\n",
    "\n",
    "print(\"Random 3x3 matrix:\\n\", random_matrix)\n"
   ]
  },
  {
   "cell_type": "code",
   "execution_count": null,
   "id": "732bb5a2-9c0d-445d-91e7-7ab988bf1dd5",
   "metadata": {},
   "outputs": [],
   "source": [
    "np.random.rand\n",
    "\n",
    "Purpose: Generates random numbers from a uniform distribution.\n",
    "Distribution: The values are drawn from a uniform distribution over the interval [0, 1).\n",
    "Output: The function generates random floats in the range [0, 1).\n",
    "Usage: Commonly used when you need random values within a fixed range.\n",
    "\n",
    "                                                           \n",
    "np.random.randn\n",
    "                                                           \n",
    "Purpose: Generates random numbers from a normal (Gaussian) distribution.\n",
    "Distribution: The values are drawn from a standard normal distribution (mean = 0, standard deviation = 1).\n",
    "Output: The function generates random floats that follow a bell curve centered around 0.\n",
    "Usage: Commonly used when you need random values that follow the properties of a normal distribution, such as for simulations that model natural phenomena."
   ]
  },
  {
   "cell_type": "code",
   "execution_count": null,
   "id": "1e872668-3ca5-45b4-a7c8-4a8b6e569dc1",
   "metadata": {},
   "outputs": [],
   "source": [
    "import numpy as np\n",
    "\n",
    "array = np.array([[1, 2, 3, 4],\n",
    "                  [5, 6, 7, 8],\n",
    "                  [9, 10, 11, 12]])\n",
    "\n",
    "\n",
    "expanded_array = np.expand_dims(array, axis=0)\n",
    "\n",
    "print(\"Original array shape:\", array.shape)\n",
    "print(\"New array shape with increased dimension:\", expanded_array.shape)\n",
    "print(\"New array:\\n\", expanded_array)\n"
   ]
  },
  {
   "cell_type": "code",
   "execution_count": null,
   "id": "c5c0cf81-36cf-4a07-9fd1-f320fed28e7e",
   "metadata": {},
   "outputs": [],
   "source": [
    "import numpy as np\n",
    "\n",
    "array = np.array([[1, 2, 3, 4],\n",
    "                  [5, 6, 7, 8],\n",
    "                  [9, 10, 11, 12]])\n",
    "\n",
    "transposed_array = array.T\n",
    "\n",
    "\n",
    "print(\"Original array:\\n\", array)\n",
    "print(\"\\nTransposed array:\\n\", transposed_array)\n"
   ]
  },
  {
   "cell_type": "code",
   "execution_count": null,
   "id": "8969b530-336e-4ad0-ba76-733cb1bedea1",
   "metadata": {},
   "outputs": [],
   "source": [
    "Considerations\n",
    "Non-Square Matrices: np.linalg.inv function can only compute the inverse of square matrices. For non-square matrices or matrices that are singular or not full rank, consider using the pseudo-inverse (np.linalg.pinv).\n",
    "\n",
    "Computational Complexity: Computing the inverse of a matrix is generally \n",
    "𝑂(𝑛3) where n is the size of the matrix. This complexity can make the function computationally expensive for large matrices.\n",
    "\n",
    "In summary, np.linalg.inv is a fundamental function in linear algebra that allows for the computation of the inverse of a square matrix, enabling various mathematical operations and solutions to linear systems. It is essential in many numerical and scientific computing tasks where matrix operations are central."
   ]
  },
  {
   "cell_type": "code",
   "execution_count": null,
   "id": "ccb0bc33-86f8-418d-8d39-77f03f7ecc34",
   "metadata": {},
   "outputs": [],
   "source": [
    "The np.reshape function in NumPy is used to change the shape (dimensions) of an array without changing its data. It allows you to reorganize the elements of an array into a new shape, as long as the total number of elements remains the same.\n",
    "\n",
    "np.reshape(a, newshape, order='C')\n",
    "\n",
    "a: The array to be reshaped.\n",
    "newshape: The new shape (dimensions) that should be given to the array. This can be a tuple specifying the dimensions.\n",
    "order: Optional. Specifies the order in which elements should be read from a when rearranging them into the new shape. It can be 'C' (row-major, default) or 'F' (column-major).\n",
    "\n",
    "Common Use Cases:\n",
    "Changing Dimensions: Reshape arrays from one shape to another, such as converting a 1D array to a 2D matrix or vice versa.\n",
    "\n",
    "Compatibility: Ensure compatibility for operations that require a specific shape of input data.\n",
    "\n",
    "Image Processing: Reshaping arrays is often used in image processing tasks where you might convert images between different formats or dimensions.\n",
    "\n",
    "Neural Networks: In machine learning, reshaping arrays is crucial for preparing input data for neural networks, where the shape often represents batch size, channels, height, and width.\n",
    "\n"
   ]
  },
  {
   "cell_type": "code",
   "execution_count": null,
   "id": "854a5b02-505c-49b7-afe1-a507102058fe",
   "metadata": {},
   "outputs": [],
   "source": []
  },
  {
   "cell_type": "code",
   "execution_count": null,
   "id": "e527be6c-b0db-4258-ba60-6400fe26d1b5",
   "metadata": {},
   "outputs": [],
   "source": []
  }
 ],
 "metadata": {
  "kernelspec": {
   "display_name": "Python 3 (ipykernel)",
   "language": "python",
   "name": "python3"
  },
  "language_info": {
   "codemirror_mode": {
    "name": "ipython",
    "version": 3
   },
   "file_extension": ".py",
   "mimetype": "text/x-python",
   "name": "python",
   "nbconvert_exporter": "python",
   "pygments_lexer": "ipython3",
   "version": "3.10.8"
  }
 },
 "nbformat": 4,
 "nbformat_minor": 5
}
